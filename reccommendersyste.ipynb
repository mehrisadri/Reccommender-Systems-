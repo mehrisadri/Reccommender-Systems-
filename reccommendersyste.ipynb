{
 "cells": [
  {
   "cell_type": "code",
   "execution_count": 4,
   "id": "489a75be-b9c5-4c22-9a47-7cd5b97d3ec1",
   "metadata": {
    "tags": []
   },
   "outputs": [
    {
     "name": "stdout",
     "output_type": "stream",
     "text": [
      "Welcome to the restaurant recommendation quiz!\n"
     ]
    },
    {
     "name": "stdin",
     "output_type": "stream",
     "text": [
      "What is a genre of food you have been wanting to try?  \n",
      "What is your budget? (Low, Medium, High)  \n",
      "Are you looking to dine in or take out?  \n"
     ]
    },
    {
     "name": "stdout",
     "output_type": "stream",
     "text": [
      "We recommend trying No suitable restaurant found in Scripps Ranch or Mira Mesa.!\n"
     ]
    }
   ],
   "source": [
    "import requests\n",
    "\n",
    "def ask_questions():\n",
    "    genre = input(\"What is a genre of food you have been wanting to try? \")\n",
    "    budget = input(\"What is your budget? (Low, Medium, High) \").lower()\n",
    "    dine_in = input(\"Are you looking to dine in or take out? \").lower()\n",
    "    \n",
    "    return genre, budget, dine_in\n",
    "\n",
    "def get_best_restaurant(api_key, genre, budget, dine_in):\n",
    "    url = \"https://api.yelp.com/v3/businesses/search\"\n",
    "    headers = {\n",
    "        \"Authorization\": f\"Bearer {api_key}\"\n",
    "    }\n",
    "    params = {\n",
    "        \"location\": \"Scripps Ranch, San Diego\",\n",
    "        \"term\": genre,\n",
    "        \"price\": budget,\n",
    "        \"attributes\": \"hot_and_new\"\n",
    "    }\n",
    "    if dine_in == \"dine in\":\n",
    "        params[\"categories\"] = \"restaurants,food\"\n",
    "    else:\n",
    "        params[\"categories\"] = \"foodtrucks\"\n",
    "    \n",
    "    response = requests.get(url, headers=headers, params=params)\n",
    "    data = response.json()\n",
    "    \n",
    "    if \"businesses\" in data and len(data[\"businesses\"]) > 0:\n",
    "        return data[\"businesses\"][0][\"name\"]\n",
    "    else:\n",
    "        # If no suitable restaurant found in Scripps Ranch, search in Mira Mesa\n",
    "        params[\"location\"] = \"Mira Mesa, San Diego\"\n",
    "        response = requests.get(url, headers=headers, params=params)\n",
    "        data = response.json()\n",
    "        if \"businesses\" in data and len(data[\"businesses\"]) > 0:\n",
    "            return data[\"businesses\"][0][\"name\"]\n",
    "        else:\n",
    "            return \"No suitable restaurant found in Scripps Ranch or Mira Mesa.\"\n",
    "\n",
    "def main():\n",
    "    api_key = '_YnQmHeIT6KafvXf1y2PvZw7kZ1u-QxhcrcyNpJiGJDLOh0L0h7bcyv1MDw8_OYjgeMiBAosZ8DlzSDwqrAVAJLuJl_yCPrw3OEsDjpz2Hr6Wir9zm74QLd8GbfiZXYx'\n",
    "    \n",
    "    print(\"Welcome to the restaurant recommendation quiz!\")\n",
    "    genre, budget, dine_in = ask_questions()\n",
    "    \n",
    "    recommended_restaurant = get_best_restaurant(api_key, genre, budget, dine_in)\n",
    "    \n",
    "    print(f\"We recommend trying {recommended_restaurant}!\")\n",
    "\n",
    "if __name__ == \"__main__\":\n",
    "    main()\n"
   ]
  },
  {
   "cell_type": "code",
   "execution_count": null,
   "id": "5fe87e67-0923-4141-9e1e-de63ce801d10",
   "metadata": {},
   "outputs": [],
   "source": []
  }
 ],
 "metadata": {
  "kernelspec": {
   "display_name": "Python 3 (ipykernel)",
   "language": "python",
   "name": "python3"
  },
  "language_info": {
   "codemirror_mode": {
    "name": "ipython",
    "version": 3
   },
   "file_extension": ".py",
   "mimetype": "text/x-python",
   "name": "python",
   "nbconvert_exporter": "python",
   "pygments_lexer": "ipython3",
   "version": "3.11.5"
  }
 },
 "nbformat": 4,
 "nbformat_minor": 5
}
